{
 "cells": [
  {
   "cell_type": "markdown",
   "id": "2fd58b96-01ee-440f-9163-aeeba6073421",
   "metadata": {
    "jupyter": {
     "source_hidden": true
    }
   },
   "source": [
    "# Data Science Tools and Ecosystem"
   ]
  },
  {
   "cell_type": "markdown",
   "id": "6089bb71-effc-4c28-9740-5d6874a624a2",
   "metadata": {},
   "source": [
    "In this notebook, Data Science Tools and Ecosystem are summarized.\n"
   ]
  },
  {
   "cell_type": "markdown",
   "id": "9e75f294-7b58-4026-beee-a7bcbe18a523",
   "metadata": {},
   "source": [
    "Some of the popular languages that Data Scientists use are:\n",
    "* python\n",
    "* R\n",
    "* Scala\n",
    "* Julia"
   ]
  },
  {
   "cell_type": "markdown",
   "id": "1644384a-2dc5-4029-823a-734a6ed20c6b",
   "metadata": {},
   "source": [
    "Some of the commonly used libraries used by Data Scientists include:\n",
    "<ol>\n",
    " <li>Numpy</li>\n",
    " <li>Pandas</li>\n",
    " <li>Matplotlib</li>\n",
    " <li>ggplot2</li>\n",
    " <li>Leaflet</li>\n",
    "</ol>\n"
   ]
  },
  {
   "cell_type": "markdown",
   "id": "ccba1646-4e47-4dc3-86ab-4570d5a151a9",
   "metadata": {},
   "source": [
    "|Data Science Tools|\n",
    "|------------------|\n",
    "|Hadoop|\n",
    "|Apache Spark|\n",
    "|Jupyter Notebook|\n"
   ]
  },
  {
   "cell_type": "markdown",
   "id": "d8383408-3142-4c64-9439-ea888c393ee4",
   "metadata": {},
   "source": [
    "### Below are a few examples of evaluating arithmetic expressions in Python."
   ]
  },
  {
   "cell_type": "code",
   "execution_count": null,
   "id": "805012e5-f784-471e-90da-76a4b3944ae6",
   "metadata": {},
   "outputs": [],
   "source": [
    "print(3+4)\n",
    "print(3-4)\n",
    "print(3*4)\n",
    "print(3/4)\n",
    "print(3%4)"
   ]
  },
  {
   "cell_type": "markdown",
   "id": "ad37bf2d-20e8-45ad-b966-06447ead68a2",
   "metadata": {},
   "source": [
    "This a simple arithmetic expression to mutiply then add integers."
   ]
  },
  {
   "cell_type": "code",
   "execution_count": null,
   "id": "4306433c-111a-45be-a236-9339651de0d5",
   "metadata": {},
   "outputs": [],
   "source": [
    "(3*4)+5"
   ]
  },
  {
   "cell_type": "markdown",
   "id": "49601ac6-d43b-44be-97ff-13b4b5243c85",
   "metadata": {},
   "source": [
    "This will convert 200 minutes to hours by diving by 60."
   ]
  },
  {
   "cell_type": "code",
   "execution_count": 3,
   "id": "b9c1bd9d-b3c9-4b95-9342-430d4577bd9c",
   "metadata": {},
   "outputs": [
    {
     "name": "stdin",
     "output_type": "stream",
     "text": [
      "enter minutes : 200\n"
     ]
    },
    {
     "name": "stdout",
     "output_type": "stream",
     "text": [
      "hours :\n",
      "3.3333333333333335\n"
     ]
    }
   ],
   "source": [
    "min=int(input(\"enter minutes :\"))\n",
    "hours=min/60\n",
    "print(\"hours :\")\n",
    "print(hours)"
   ]
  },
  {
   "cell_type": "markdown",
   "id": "d2be37ee-0b71-4ea8-baba-801acd07cb25",
   "metadata": {},
   "source": [
    "**Objectives :**\n",
    "+ Create a Jupyter Notebook.\n",
    "+ Create Markdown Cells for Introduction.\n",
    "+ List Popular Languages for Data Science.\n"
   ]
  },
  {
   "cell_type": "markdown",
   "id": "babfecb2-8e13-42a8-a947-578beb489f98",
   "metadata": {},
   "source": [
    "## author\n",
    "keyur kurani"
   ]
  },
  {
   "cell_type": "code",
   "execution_count": null,
   "id": "8f185c29-bb7b-415a-afd7-c7a0fc5c15bc",
   "metadata": {},
   "outputs": [],
   "source": []
  }
 ],
 "metadata": {
  "kernelspec": {
   "display_name": "Python 3 (ipykernel)",
   "language": "python",
   "name": "python3"
  },
  "language_info": {
   "codemirror_mode": {
    "name": "ipython",
    "version": 3
   },
   "file_extension": ".py",
   "mimetype": "text/x-python",
   "name": "python",
   "nbconvert_exporter": "python",
   "pygments_lexer": "ipython3",
   "version": "3.11.7"
  }
 },
 "nbformat": 4,
 "nbformat_minor": 5
}
